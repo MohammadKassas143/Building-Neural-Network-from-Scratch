{
 "cells": [
  {
   "cell_type": "code",
   "execution_count": 22,
   "id": "9827fc5a-ae4c-4db1-9df1-3198b2b709b7",
   "metadata": {},
   "outputs": [],
   "source": [
    "import numpy as np\n",
    "import pandas as pd\n",
    "import matplotlib.pyplot  as plt\n",
    "import seaborn as sns\n",
    "sns.set()"
   ]
  },
  {
   "cell_type": "markdown",
   "id": "f85646c3-81f4-4e0a-8ca0-e8a08ec4f942",
   "metadata": {},
   "source": [
    "## The intialization function."
   ]
  },
  {
   "cell_type": "code",
   "execution_count": 23,
   "id": "3e88d2a7-de03-4753-a048-cf7b6305f2da",
   "metadata": {},
   "outputs": [],
   "source": [
    "def intialize_weights(layer_dims):\n",
    "    parameters = {}\n",
    "    L = len(layer_dims)\n",
    "    for l in range(L-1) :\n",
    "        rows = layer_dims[l+1]\n",
    "        cols = layer_dims[l]\n",
    "        parameters['W'+str(l+1)] = np.random.uniform(-2.4/cols,2.4/cols,(rows,cols))\n",
    "        parameters['b'+str(l+1)] = np.zeros([rows,1],dtype=float)\n",
    "    return  parameters\n",
    "        "
   ]
  },
  {
   "cell_type": "markdown",
   "id": "389c0147-703e-49bd-892b-ce7451d6bdae",
   "metadata": {},
   "source": [
    "## The Activation functions needed and their deravatives."
   ]
  },
  {
   "cell_type": "code",
   "execution_count": 24,
   "id": "be522567-6e09-4484-bbb3-d5934da36b5e",
   "metadata": {},
   "outputs": [],
   "source": [
    "def relu(Z):\n",
    "    return np.maximum(Z,0)\n",
    "def relu_derivative(A):\n",
    "    return (A > 0) *1\n"
   ]
  },
  {
   "cell_type": "code",
   "execution_count": 25,
   "id": "a53c8253-d38b-4309-8fd3-286497b5b941",
   "metadata": {},
   "outputs": [],
   "source": [
    "def sigmoid(Z):\n",
    "    A = 1/(1+np.exp(-Z))\n",
    "    return A\n",
    "def sigmoid_derivative(A):\n",
    "    return A * (1 - A)"
   ]
  },
  {
   "cell_type": "markdown",
   "id": "d4cb5053-b6fe-4c2d-9440-d491e589b0cc",
   "metadata": {},
   "source": [
    "## Forward Propagation."
   ]
  },
  {
   "cell_type": "code",
   "execution_count": 26,
   "id": "f468b9af-9a9d-4534-b73b-19056faacd44",
   "metadata": {},
   "outputs": [],
   "source": [
    "def forward_propegation(X , Y, parameters):\n",
    "    L = len(parameters) // 2\n",
    "    cache = {}\n",
    "    for l in range(1,L):\n",
    "        if l==1:\n",
    "            cache['Z' + str(l)] = np.dot(parameters['W' + str(l)],X) + parameters['b' + str(l)]\n",
    "            cache['A' + str(l)] = relu(cache['Z' + str(l)])\n",
    "        else:\n",
    "            cache['Z' + str(l)] = np.dot(parameters['W' + str(l)],cache['A' + str(l-1)]) + parameters['b' + str(l)]\n",
    "            cache['A' + str(l)] = relu(cache['Z' + str(l)])         \n",
    "    cache['Z' + str(L)] = np.dot(parameters['W' + str(L)],cache['A' + str(L-1)]) \n",
    "    cache['A' + str(L)] = sigmoid(cache['Z' + str(L)])\n",
    "    AL = cache['A' + str(L)]\n",
    "    return AL, cache\n",
    "        "
   ]
  },
  {
   "cell_type": "markdown",
   "id": "e26bd2fd-97cd-490c-8629-bd264d6af0cc",
   "metadata": {},
   "source": [
    "## Error Calculation."
   ]
  },
  {
   "cell_type": "code",
   "execution_count": 27,
   "id": "185842b6-aa95-4d3d-9118-ecbc4572a885",
   "metadata": {},
   "outputs": [],
   "source": [
    "def Error_calculate(AL , Y , cache, parameters):\n",
    "    m = Y.shape[1]\n",
    "    L = len(parameters) // 2\n",
    "    errors = {}\n",
    "    Y_k = AL\n",
    "    # Y is desired output, Y_k is actual output.\n",
    "    delta_k = sigmoid_derivative(Y_k) * (Y - Y_k)\n",
    "    errors['delta_'+str(L)] = delta_k\n",
    "    for l in reversed(range(1,L)):\n",
    "        Y_j= cache['A'+str(l)]\n",
    "        delta_j = relu_derivative(Y_j) * np.dot( parameters['W' + str(l+1)].T ,errors['delta_'+ str(l+1)]) \n",
    "        errors['delta_'+str(l)] = delta_j\n",
    "    return errors\n",
    "\n",
    "        "
   ]
  },
  {
   "cell_type": "markdown",
   "id": "a26a8f61-b638-49c5-9ac4-1575363cd5f5",
   "metadata": {},
   "source": [
    "## Back Propagation."
   ]
  },
  {
   "cell_type": "code",
   "execution_count": 28,
   "id": "548d8fba-e338-4181-a711-fdc7fc6f8266",
   "metadata": {},
   "outputs": [],
   "source": [
    "def Back_propagation(X,parameters, errors, cache, learning_rate = 0.02):\n",
    "    \n",
    "    L = len(parameters) // 2\n",
    "    for l in reversed(range(1,L+1)):\n",
    "        if l>1:\n",
    "            Y_j = cache['A' + str(l-1)]\n",
    "        else:\n",
    "            Y_j = X\n",
    "        delta_k = errors['delta_' +str(l)]\n",
    "        d_w = learning_rate *np.dot( Y_j, delta_k.T)\n",
    "        d_b = learning_rate *delta_k.T\n",
    "        parameters['W' + str(l)] = np.add(parameters['W' + str(l)] , d_w.T)\n",
    "        parameters['b' + str(l)] = np.add(parameters['b' + str(l)] ,np.sum(d_b.T, axis=1, keepdims =True))\n",
    "    return parameters"
   ]
  },
  {
   "cell_type": "markdown",
   "id": "6aeeede4-9cac-463f-beba-d7afcaf490f6",
   "metadata": {},
   "source": [
    "## Cost functions "
   ]
  },
  {
   "cell_type": "code",
   "execution_count": 29,
   "id": "04dde4b5-44e6-4c96-8581-b8a9e9676915",
   "metadata": {},
   "outputs": [],
   "source": [
    "def root_mean_squared_error(target , actual):\n",
    "    m = target.shape[0]  \n",
    "    return np.sqrt((np.sum((target - actual)**2))/m)"
   ]
  },
  {
   "cell_type": "code",
   "execution_count": 30,
   "id": "d1d97e2f-3fed-45d2-9d36-3c266e96e6cf",
   "metadata": {},
   "outputs": [],
   "source": [
    "def mean_absolute_error(target , actual ,with_mean = True):\n",
    "    m = target.shape[0]\n",
    "    if with_mean:\n",
    "        return (np.abs(target - actual).sum())/m\n",
    "    else:\n",
    "        return np.abs(target - actual).sum()"
   ]
  },
  {
   "cell_type": "markdown",
   "id": "a79aea61-162b-437e-afb4-0875436f981c",
   "metadata": {},
   "source": [
    "## Building the model all together"
   ]
  },
  {
   "cell_type": "code",
   "execution_count": 31,
   "id": "c43c0dd7-713a-4040-928c-31d027793fb1",
   "metadata": {},
   "outputs": [],
   "source": [
    "def model(X_train , Y_train , layer_dims = [9,100,1], epochs = 1000, learning_rate =0.1):\n",
    "    np.random.seed(42)\n",
    "    weights = intialize_weights(layer_dims)\n",
    "    costs = []\n",
    "    accs = []\n",
    "    print('__________________________________________________________')\n",
    "    for epoch in range(epochs):\n",
    "        AL , cache = forward_propegation(X_train , Y_train ,weights)\n",
    "        errors = Error_calculate(AL , Y_train , cache , weights)\n",
    "        weights = Back_propagation(X_train , weights ,errors, cache, learning_rate  )\n",
    "        predictions = AL\n",
    "        predictions[predictions  > 0.6] =1\n",
    "        predictions[predictions <= 0.6] =0\n",
    "        cost = root_mean_squared_error(predictions[0], Y_train).round(4)\n",
    "        acc = 1 - mean_absolute_error(predictions[0] ,Y_train)\n",
    "        costs.append(cost)\n",
    "        accs.append(acc)\n",
    "        if epoch % 50 ==0:\n",
    "            print('Epoch: ',epoch)\n",
    "            print('Accuaracy: ',(acc*100).round(2),'%')\n",
    "            print('Cost: ',cost)\n",
    "            print('--------------------------------------------------')\n",
    "    plt.plot(np.arange(epochs) , accs, 'g')\n",
    "    plt.xlabel('Epochs')\n",
    "    plt.ylabel('Accuracy')\n",
    "    #plt.savefig('acc.jpg', format='jpg', dpi=1800)\n",
    "    plt.show()\n",
    "    return weights #,costs\n"
   ]
  },
  {
   "cell_type": "markdown",
   "id": "eea5665d-b199-4574-a562-16a83a7abb5c",
   "metadata": {},
   "source": [
    "## Evaluate Function"
   ]
  },
  {
   "cell_type": "code",
   "execution_count": 32,
   "id": "a10f3c0a-783e-4347-a95c-de809e50ad26",
   "metadata": {},
   "outputs": [],
   "source": [
    "def evaluate(X , Y, parameters , dataset='Test' ,return_result =True ):\n",
    "    predictions ,cache = forward_propegation(X , Y, parameters )\n",
    "    predictions[predictions > 0.6]  =1\n",
    "    predictions[predictions <= 0.6]  =0\n",
    "    accuaracy = ((1 - mean_absolute_error(predictions[0] ,Y))*100).round(2)\n",
    "    cost = root_mean_squared_error(predictions[0], Y).round(4)\n",
    "    print(dataset,' Accuaracy: ',accuaracy,'%')\n",
    "    print(dataset,' Cost: ', root_mean_squared_error(predictions[0], Y).round(4))\n",
    "    if return_result:\n",
    "        return accuaracy , cost"
   ]
  },
  {
   "cell_type": "markdown",
   "id": "d3c9f34c-58e1-449e-adaf-d72d4b8c9c66",
   "metadata": {},
   "source": [
    "## Loading the data."
   ]
  },
  {
   "cell_type": "code",
   "execution_count": 33,
   "id": "6f3185f5-3754-4594-bb12-bf7c9e990d8b",
   "metadata": {},
   "outputs": [],
   "source": [
    "train_set = pd.read_csv('final_train_set.csv',index_col =0)\n",
    "test_set  = pd.read_csv('final_test_set.csv' ,index_col =0)"
   ]
  },
  {
   "cell_type": "code",
   "execution_count": 34,
   "id": "5e8fe2b7-cd59-4ddd-8395-635448150e88",
   "metadata": {},
   "outputs": [],
   "source": [
    "x_train = train_set.drop(['Survived'],axis =1)\n",
    "y_train = train_set.Survived\n",
    "\n",
    "X_train = x_train.to_numpy().T\n",
    "Y_train = y_train.to_numpy().reshape(1,-1)\n",
    "\n",
    "x_test= test_set.drop(['Survived'],axis =1)\n",
    "y_test = test_set.Survived\n",
    "\n",
    "X_test = x_test.to_numpy().T\n",
    "Y_test = y_test.to_numpy().reshape(1,-1)\n"
   ]
  },
  {
   "cell_type": "markdown",
   "id": "842dbae4-8e89-4583-8006-0ea650c46874",
   "metadata": {},
   "source": [
    "## Training the model."
   ]
  },
  {
   "cell_type": "code",
   "execution_count": 43,
   "id": "ecda2681-2250-4b2c-8b7f-b0a9072ef1d4",
   "metadata": {},
   "outputs": [
    {
     "name": "stdout",
     "output_type": "stream",
     "text": [
      "__________________________________________________________\n",
      "Epoch:  0\n",
      "Accuaracy:  61.46 %\n",
      "Cost:  0.6208\n",
      "--------------------------------------------------\n",
      "Epoch:  50\n",
      "Accuaracy:  85.44 %\n",
      "Cost:  0.3815\n",
      "--------------------------------------------------\n"
     ]
    },
    {
     "data": {
      "image/png": "[encoded data removed]",
      "text/plain": [
       "<Figure size 640x480 with 1 Axes>"
      ]
     },
     "metadata": {},
     "output_type": "display_data"
    }
   ],
   "source": [
    "weights= model(X_train , Y_train , layer_dims = [9,150,50,1], epochs = 100, learning_rate =0.005)   "
   ]
  },
  {
   "cell_type": "markdown",
   "id": "f63e3a03-b4a2-4b85-988a-9541cce9a2be",
   "metadata": {},
   "source": [
    "## Evaluating the final model on train and test data."
   ]
  },
  {
   "cell_type": "code",
   "execution_count": 36,
   "id": "25758e0a-ca7e-474b-bdab-72ae869b3ca1",
   "metadata": {},
   "outputs": [
    {
     "name": "stdout",
     "output_type": "stream",
     "text": [
      "Train  Accuaracy:  86.07 %\n",
      "Train  Cost:  0.3732\n"
     ]
    }
   ],
   "source": [
    "evaluate(X_train, Y_train, weights , dataset ='Train' , return_result=False)"
   ]
  },
  {
   "cell_type": "code",
   "execution_count": 37,
   "id": "7d628fa6-623b-48ab-a5d2-192cddf9bdf3",
   "metadata": {},
   "outputs": [
    {
     "name": "stdout",
     "output_type": "stream",
     "text": [
      "Test  Accuaracy:  91.84 %\n",
      "Test  Cost:  0.2857\n"
     ]
    }
   ],
   "source": [
    "evaluate(X_test, Y_test, weights , dataset ='Test' , return_result= False)"
   ]
  },
  {
   "cell_type": "markdown",
   "id": "d1a2f417-2747-43e9-a471-69725df75d44",
   "metadata": {},
   "source": [
    "**The code below is just for reproting purposes.**"
   ]
  },
  {
   "cell_type": "code",
   "execution_count": 38,
   "id": "61bf1c05-0d13-4c7c-9769-abdf9ac084b5",
   "metadata": {},
   "outputs": [],
   "source": [
    "# alphas = [0.1 ,0.05 ,0.02 , 0.01 ,0.005 ,0.002 ,0.001 ,0.1 ,0.05 ,0.02 , 0.01 ,0.005 ,0.002 ,0.001 ]\n",
    "# epochs = [100 ,200,300,500 ,700 ,800 ,1000, 1000 , 200,300,500 ,100 ,700 ,800 ]\n",
    "# layers = [[9,60,1],[9,30,1],[9,75,50,1],[9,50,25,1],[9,128,1],[9,100,50,1],[9,50,1],[9,25,1],[9,50,25,1],[9,30,1],[9,64,32,1],[9,150,50,1],[9,100,50,1],[9,25,5,1]]\n",
    "\n",
    "# train_errors = []\n",
    "# train_accuracies = []\n",
    "# test_errors = []\n",
    "# test_accuracies = []\n",
    "# for i in range(len(layers)):\n",
    "#     print(layers[i])\n",
    "#     W = model(X_train , Y_train , layer_dims = layers[i], epochs = epochs[i], learning_rate =alphas[i])\n",
    "#     train_acc , train_cost = evaluate(X_train , Y_train, W )\n",
    "#     test_acc , test_cost = evaluate(X_test , Y_test , W )\n",
    "#     train_errors.append(train_cost)\n",
    "#     train_accuracies.append(train_acc)\n",
    "#     test_errors.append(test_cost)\n",
    "#     test_accuracies.append(test_acc)"
   ]
  },
  {
   "cell_type": "code",
   "execution_count": 39,
   "id": "50d9f2fe-0a0b-44bb-940f-9e03c9d50737",
   "metadata": {},
   "outputs": [],
   "source": [
    "# import dataframe_image as dfi\n",
    "\n",
    "# models = ['[9,60,1]','[9,30,1]','[9,75,50,1]','[9,50,25,1]','[9,128,1]','[9,100,50,1]','[9,50,1]',\n",
    "#          '[9,25,1]','[9,50,25,1]','[9,30,1]','[9,64,32,1]','[9,150,50,1]','[9,100,50,1]','[9,25,5,1]']\n",
    "\n",
    "# Hyper = np.array([models , alphas,epochs,train_errors , \n",
    "# train_accuracies , test_errors , test_accuracies ]).T\n",
    "\n",
    "# tuning = pd.DataFrame(Hyper,columns = [ 'Model','Learning rate','Epochs',\n",
    "#     'Train RMSE','Train accuracy' ,\n",
    "# 'Test RMSE' ,'Test accuracy' ] ,index_col=False)\n",
    "# tuning.sort_values(by= 'Test accuracy',ascending= False)\n"
   ]
  },
  {
   "cell_type": "code",
   "execution_count": 40,
   "id": "3c115caf-e2ae-4644-bc7c-0ab3c22515cd",
   "metadata": {},
   "outputs": [],
   "source": [
    "# dfi.export(tuning.sort_values(by= 'Test accuracy',ascending= False).reset_index(), 'models.jpg',dpi=1200)"
   ]
  },
  {
   "cell_type": "code",
   "execution_count": 41,
   "id": "ec611f1e-585b-4ee1-936b-fad117b8aaea",
   "metadata": {},
   "outputs": [],
   "source": [
    "# alphas = [0.1, 0.01, 0.002 , 0.001]\n",
    "# losses = []\n",
    "# for i in range(len(alphas)):\n",
    "#     W , c = model(X_train , Y_train , layer_dims = [9,1], epochs = 1000, learning_rate =alphas[i])\n",
    "#     losses.append(c)"
   ]
  },
  {
   "cell_type": "code",
   "execution_count": 42,
   "id": "8462f9d2-a454-4445-959c-2d540f4a4503",
   "metadata": {},
   "outputs": [],
   "source": [
    "# epochs=1000\n",
    "# EPOCHS = np.arange(epochs)\n",
    "# fig, axs = plt.subplots(2,2 , figsize = (12,8))\n",
    "# fig.suptitle('Costs VS Epochs in Differenet Learning rates')\n",
    "\n",
    "# axs[0,0].plot(EPOCHS, losses[0], 'r')\n",
    "# axs[0,0].set_title('α = 0.1')\n",
    "\n",
    "# axs[0,1].plot(EPOCHS, losses[1], 'y')\n",
    "# axs[0,1].set_title('α = 0.01')\n",
    "# axs[0,1].set_xlabel('Epochs')\n",
    "\n",
    "\n",
    "# axs[1,0].plot(EPOCHS, losses[2], 'b')\n",
    "# axs[1,0].set_title('α = 0.002')\n",
    "\n",
    "# axs[1,1].plot(EPOCHS, losses[3], 'c')\n",
    "# axs[1,1].set_title('α = 0.001')\n",
    "\n",
    "# # # plt.xlabel('Epochs')\n",
    "# # plt.ylabel('Loss')\n",
    "# for ax in fig.get_axes():\n",
    "#     ax.label_outer()\n",
    "\n",
    "# axs[0,0].set_xlabel('Epochs')\n",
    "# axs[0,1].set_xlabel('Epochs')\n",
    "# axs[1,0].set_xlabel('Epochs')\n",
    "# axs[1,1].set_xlabel('Epochs')\n",
    "\n",
    "# axs[0,0].set_ylabel('Loss')\n",
    "# axs[0,1].set_ylabel('Loss')\n",
    "# axs[1,0].set_ylabel('Loss')\n",
    "# axs[1,1].set_ylabel('Loss')\n",
    "\n",
    "\n",
    "# #fig.savefig('costs.jpg', format='jpg', dpi=1800)\n",
    "# plt.show()\n"
   ]
  }
 ],
 "metadata": {
  "kernelspec": {
   "display_name": "Python 3 (ipykernel)",
   "language": "python",
   "name": "python3"
  },
  "language_info": {
   "codemirror_mode": {
    "name": "ipython",
    "version": 3
   },
   "file_extension": ".py",
   "mimetype": "text/x-python",
   "name": "python",
   "nbconvert_exporter": "python",
   "pygments_lexer": "ipython3",
   "version": "3.11.4"
  }
 },
 "nbformat": 4,
 "nbformat_minor": 5
}
